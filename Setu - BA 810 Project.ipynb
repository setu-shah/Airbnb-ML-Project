{
  "nbformat": 4,
  "nbformat_minor": 0,
  "metadata": {
    "colab": {
      "provenance": []
    },
    "kernelspec": {
      "name": "python3",
      "display_name": "Python 3"
    },
    "language_info": {
      "name": "python"
    }
  },
  "cells": [
    {
      "cell_type": "code",
      "execution_count": null,
      "metadata": {
        "id": "IND2z7oSI052"
      },
      "outputs": [],
      "source": [
        "import pandas as pd\n",
        "import numpy as np\n",
        "import seaborn as sns\n",
        "import matplotlib.pyplot as plt"
      ]
    },
    {
      "cell_type": "code",
      "source": [
        "# Download the dataset file\n",
        "\n",
        "!wget 'https://maven-datasets.s3.amazonaws.com/Airbnb/Airbnb+Data.zip'"
      ],
      "metadata": {
        "colab": {
          "base_uri": "https://localhost:8080/"
        },
        "id": "9naBgYOhaqc8",
        "outputId": "80a749cf-41d5-4b44-e1f1-97efc93dc084"
      },
      "execution_count": 4,
      "outputs": [
        {
          "output_type": "stream",
          "name": "stdout",
          "text": [
            "--2023-11-05 21:37:25--  https://maven-datasets.s3.amazonaws.com/Airbnb/Airbnb+Data.zip\n",
            "Resolving maven-datasets.s3.amazonaws.com (maven-datasets.s3.amazonaws.com)... 16.182.67.57, 54.231.193.65, 3.5.29.157, ...\n",
            "Connecting to maven-datasets.s3.amazonaws.com (maven-datasets.s3.amazonaws.com)|16.182.67.57|:443... connected.\n",
            "HTTP request sent, awaiting response... 200 OK\n",
            "Length: 91005234 (87M) [application/zip]\n",
            "Saving to: ‘Airbnb+Data.zip’\n",
            "\n",
            "Airbnb+Data.zip     100%[===================>]  86.79M  74.7MB/s    in 1.2s    \n",
            "\n",
            "2023-11-05 21:37:26 (74.7 MB/s) - ‘Airbnb+Data.zip’ saved [91005234/91005234]\n",
            "\n"
          ]
        }
      ]
    },
    {
      "cell_type": "code",
      "source": [
        "# Unzip the downloaded file\n",
        "\n",
        "!unzip Airbnb+Data.zip"
      ],
      "metadata": {
        "colab": {
          "base_uri": "https://localhost:8080/"
        },
        "id": "2bf9Rm2oa5oL",
        "outputId": "5544b7f6-b60b-4f25-d7e1-8194b8df70cd"
      },
      "execution_count": 5,
      "outputs": [
        {
          "output_type": "stream",
          "name": "stdout",
          "text": [
            "Archive:  Airbnb+Data.zip\n",
            "   creating: Airbnb Data/\n",
            "  inflating: Airbnb Data/Listings.csv  \n",
            "  inflating: Airbnb Data/Listings_data_dictionary.csv  \n",
            "  inflating: Airbnb Data/Reviews.csv  \n",
            "  inflating: Airbnb Data/Reviews_data_dictionary.csv  \n"
          ]
        }
      ]
    },
    {
      "cell_type": "code",
      "source": [
        "# Load the data frames\n",
        "\n",
        "listings =  pd.read_csv('/content/Airbnb Data/Listings.csv', encoding = 'latin1')\n",
        "\n",
        "reviews = pd.read_csv('/content/Airbnb Data/Reviews.csv', encoding = 'latin1')"
      ],
      "metadata": {
        "id": "sw4qzkVBKxqK"
      },
      "execution_count": 7,
      "outputs": []
    },
    {
      "cell_type": "code",
      "source": [
        "listings.info()"
      ],
      "metadata": {
        "id": "u93eC4d0LgME",
        "colab": {
          "base_uri": "https://localhost:8080/"
        },
        "outputId": "b4b41c68-d4ea-447e-e98c-417af6571d0a"
      },
      "execution_count": 8,
      "outputs": [
        {
          "output_type": "stream",
          "name": "stdout",
          "text": [
            "<class 'pandas.core.frame.DataFrame'>\n",
            "RangeIndex: 279712 entries, 0 to 279711\n",
            "Data columns (total 33 columns):\n",
            " #   Column                       Non-Null Count   Dtype  \n",
            "---  ------                       --------------   -----  \n",
            " 0   listing_id                   279712 non-null  int64  \n",
            " 1   name                         279539 non-null  object \n",
            " 2   host_id                      279712 non-null  int64  \n",
            " 3   host_since                   279547 non-null  object \n",
            " 4   host_location                278872 non-null  object \n",
            " 5   host_response_time           150930 non-null  object \n",
            " 6   host_response_rate           150930 non-null  float64\n",
            " 7   host_acceptance_rate         166625 non-null  float64\n",
            " 8   host_is_superhost            279547 non-null  object \n",
            " 9   host_total_listings_count    279547 non-null  float64\n",
            " 10  host_has_profile_pic         279547 non-null  object \n",
            " 11  host_identity_verified       279547 non-null  object \n",
            " 12  neighbourhood                279712 non-null  object \n",
            " 13  district                     37012 non-null   object \n",
            " 14  city                         279712 non-null  object \n",
            " 15  latitude                     279712 non-null  float64\n",
            " 16  longitude                    279712 non-null  float64\n",
            " 17  property_type                279712 non-null  object \n",
            " 18  room_type                    279712 non-null  object \n",
            " 19  accommodates                 279712 non-null  int64  \n",
            " 20  bedrooms                     250277 non-null  float64\n",
            " 21  amenities                    279712 non-null  object \n",
            " 22  price                        279712 non-null  int64  \n",
            " 23  minimum_nights               279712 non-null  int64  \n",
            " 24  maximum_nights               279712 non-null  int64  \n",
            " 25  review_scores_rating         188307 non-null  float64\n",
            " 26  review_scores_accuracy       187999 non-null  float64\n",
            " 27  review_scores_cleanliness    188047 non-null  float64\n",
            " 28  review_scores_checkin        187941 non-null  float64\n",
            " 29  review_scores_communication  188025 non-null  float64\n",
            " 30  review_scores_location       187937 non-null  float64\n",
            " 31  review_scores_value          187927 non-null  float64\n",
            " 32  instant_bookable             279712 non-null  object \n",
            "dtypes: float64(13), int64(6), object(14)\n",
            "memory usage: 70.4+ MB\n"
          ]
        }
      ]
    },
    {
      "cell_type": "code",
      "source": [
        "listings.isna().sum() / len(listings) * 100"
      ],
      "metadata": {
        "id": "AdV7WNmVMDFT",
        "colab": {
          "base_uri": "https://localhost:8080/"
        },
        "outputId": "9c67b1bf-c4d3-4481-dfff-0e72b0467497"
      },
      "execution_count": 9,
      "outputs": [
        {
          "output_type": "execute_result",
          "data": {
            "text/plain": [
              "listing_id                      0.000000\n",
              "name                            0.061849\n",
              "host_id                         0.000000\n",
              "host_since                      0.058989\n",
              "host_location                   0.300309\n",
              "host_response_time             46.040928\n",
              "host_response_rate             46.040928\n",
              "host_acceptance_rate           40.429799\n",
              "host_is_superhost               0.058989\n",
              "host_total_listings_count       0.058989\n",
              "host_has_profile_pic            0.058989\n",
              "host_identity_verified          0.058989\n",
              "neighbourhood                   0.000000\n",
              "district                       86.767818\n",
              "city                            0.000000\n",
              "latitude                        0.000000\n",
              "longitude                       0.000000\n",
              "property_type                   0.000000\n",
              "room_type                       0.000000\n",
              "accommodates                    0.000000\n",
              "bedrooms                       10.523324\n",
              "amenities                       0.000000\n",
              "price                           0.000000\n",
              "minimum_nights                  0.000000\n",
              "maximum_nights                  0.000000\n",
              "review_scores_rating           32.678255\n",
              "review_scores_accuracy         32.788368\n",
              "review_scores_cleanliness      32.771208\n",
              "review_scores_checkin          32.809104\n",
              "review_scores_communication    32.779073\n",
              "review_scores_location         32.810534\n",
              "review_scores_value            32.814109\n",
              "instant_bookable                0.000000\n",
              "dtype: float64"
            ]
          },
          "metadata": {},
          "execution_count": 9
        }
      ]
    },
    {
      "cell_type": "code",
      "source": [
        "listings.skew()"
      ],
      "metadata": {
        "id": "uOdyfSxjWQX1",
        "colab": {
          "base_uri": "https://localhost:8080/"
        },
        "outputId": "eef8b5c6-a5e1-49ba-8ef9-cdda599c08c9"
      },
      "execution_count": 10,
      "outputs": [
        {
          "output_type": "stream",
          "name": "stderr",
          "text": [
            "<ipython-input-10-568dc74f9e3b>:1: FutureWarning: The default value of numeric_only in DataFrame.skew is deprecated. In a future version, it will default to False. In addition, specifying 'numeric_only=None' is deprecated. Select only valid columns or specify the value of numeric_only to silence this warning.\n",
            "  listings.skew()\n"
          ]
        },
        {
          "output_type": "execute_result",
          "data": {
            "text/plain": [
              "listing_id                      -0.193098\n",
              "host_id                          0.955389\n",
              "host_response_rate              -2.268489\n",
              "host_acceptance_rate            -1.863825\n",
              "host_total_listings_count       23.490094\n",
              "latitude                        -0.710930\n",
              "longitude                        0.490553\n",
              "accommodates                     2.197609\n",
              "bedrooms                        13.213384\n",
              "price                           61.616178\n",
              "minimum_nights                 123.170870\n",
              "maximum_nights                 284.220653\n",
              "review_scores_rating            -3.758450\n",
              "review_scores_accuracy          -4.213310\n",
              "review_scores_cleanliness       -3.027859\n",
              "review_scores_checkin           -5.262128\n",
              "review_scores_communication     -5.230256\n",
              "review_scores_location          -4.317991\n",
              "review_scores_value             -3.253842\n",
              "dtype: float64"
            ]
          },
          "metadata": {},
          "execution_count": 10
        }
      ]
    }
  ]
}